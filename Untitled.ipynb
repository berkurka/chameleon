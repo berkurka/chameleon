{
 "cells": [
  {
   "cell_type": "code",
   "execution_count": 4,
   "metadata": {},
   "outputs": [
    {
     "name": "stdout",
     "output_type": "stream",
     "text": [
      "Requirement already satisfied: nbconvert in /Users/caioamaral/opt/anaconda3/lib/python3.8/site-packages (5.6.1)\n",
      "Requirement already satisfied: pygments in /Users/caioamaral/opt/anaconda3/lib/python3.8/site-packages (from nbconvert) (2.6.1)\n",
      "Requirement already satisfied: testpath in /Users/caioamaral/opt/anaconda3/lib/python3.8/site-packages (from nbconvert) (0.4.4)\n",
      "Requirement already satisfied: pandocfilters>=1.4.1 in /Users/caioamaral/opt/anaconda3/lib/python3.8/site-packages (from nbconvert) (1.4.2)\n",
      "Requirement already satisfied: traitlets>=4.2 in /Users/caioamaral/opt/anaconda3/lib/python3.8/site-packages (from nbconvert) (4.3.3)\n",
      "Requirement already satisfied: jinja2>=2.4 in /Users/caioamaral/opt/anaconda3/lib/python3.8/site-packages (from nbconvert) (2.11.2)\n",
      "Requirement already satisfied: bleach in /Users/caioamaral/opt/anaconda3/lib/python3.8/site-packages (from nbconvert) (3.1.5)\n",
      "Requirement already satisfied: defusedxml in /Users/caioamaral/opt/anaconda3/lib/python3.8/site-packages (from nbconvert) (0.6.0)\n",
      "Requirement already satisfied: mistune<2,>=0.8.1 in /Users/caioamaral/opt/anaconda3/lib/python3.8/site-packages (from nbconvert) (0.8.4)\n",
      "Requirement already satisfied: jupyter-core in /Users/caioamaral/opt/anaconda3/lib/python3.8/site-packages (from nbconvert) (4.6.3)\n",
      "Requirement already satisfied: nbformat>=4.4 in /Users/caioamaral/opt/anaconda3/lib/python3.8/site-packages (from nbconvert) (5.0.7)\n",
      "Requirement already satisfied: entrypoints>=0.2.2 in /Users/caioamaral/opt/anaconda3/lib/python3.8/site-packages (from nbconvert) (0.3)\n",
      "Requirement already satisfied: six in /Users/caioamaral/opt/anaconda3/lib/python3.8/site-packages (from traitlets>=4.2->nbconvert) (1.15.0)\n",
      "Requirement already satisfied: decorator in /Users/caioamaral/opt/anaconda3/lib/python3.8/site-packages (from traitlets>=4.2->nbconvert) (4.4.2)\n",
      "Requirement already satisfied: ipython-genutils in /Users/caioamaral/opt/anaconda3/lib/python3.8/site-packages (from traitlets>=4.2->nbconvert) (0.2.0)\n",
      "Requirement already satisfied: MarkupSafe>=0.23 in /Users/caioamaral/opt/anaconda3/lib/python3.8/site-packages (from jinja2>=2.4->nbconvert) (1.1.1)\n",
      "Requirement already satisfied: webencodings in /Users/caioamaral/opt/anaconda3/lib/python3.8/site-packages (from bleach->nbconvert) (0.5.1)\n",
      "Requirement already satisfied: packaging in /Users/caioamaral/opt/anaconda3/lib/python3.8/site-packages (from bleach->nbconvert) (20.4)\n",
      "Requirement already satisfied: jsonschema!=2.5.0,>=2.4 in /Users/caioamaral/opt/anaconda3/lib/python3.8/site-packages (from nbformat>=4.4->nbconvert) (3.2.0)\n",
      "Requirement already satisfied: pyparsing>=2.0.2 in /Users/caioamaral/opt/anaconda3/lib/python3.8/site-packages (from packaging->bleach->nbconvert) (2.4.7)\n",
      "Requirement already satisfied: attrs>=17.4.0 in /Users/caioamaral/opt/anaconda3/lib/python3.8/site-packages (from jsonschema!=2.5.0,>=2.4->nbformat>=4.4->nbconvert) (19.3.0)\n",
      "Requirement already satisfied: pyrsistent>=0.14.0 in /Users/caioamaral/opt/anaconda3/lib/python3.8/site-packages (from jsonschema!=2.5.0,>=2.4->nbformat>=4.4->nbconvert) (0.16.0)\n",
      "Requirement already satisfied: setuptools in /Users/caioamaral/opt/anaconda3/lib/python3.8/site-packages (from jsonschema!=2.5.0,>=2.4->nbformat>=4.4->nbconvert) (49.2.0.post20200714)\n",
      "Note: you may need to restart the kernel to use updated packages.\n"
     ]
    }
   ],
   "source": [
    "pip install nbconvert"
   ]
  },
  {
   "cell_type": "code",
   "execution_count": 8,
   "metadata": {},
   "outputs": [
    {
     "name": "stdout",
     "output_type": "stream",
     "text": [
      "[NbConvertApp] Converting notebook main.ipynb to script\n",
      "[NbConvertApp] Writing 2315 bytes to main.py\n"
     ]
    }
   ],
   "source": [
    "!jupyter nbconvert --to script main.ipynb"
   ]
  },
  {
   "cell_type": "code",
   "execution_count": null,
   "metadata": {},
   "outputs": [],
   "source": []
  }
 ],
 "metadata": {
  "kernelspec": {
   "display_name": "Python 3",
   "language": "python",
   "name": "python3"
  },
  "language_info": {
   "codemirror_mode": {
    "name": "ipython",
    "version": 3
   },
   "file_extension": ".py",
   "mimetype": "text/x-python",
   "name": "python",
   "nbconvert_exporter": "python",
   "pygments_lexer": "ipython3",
   "version": "3.8.3"
  }
 },
 "nbformat": 4,
 "nbformat_minor": 4
}
