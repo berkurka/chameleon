{
 "cells": [
  {
   "cell_type": "code",
   "execution_count": 41,
   "metadata": {},
   "outputs": [
    {
     "name": "stdout",
     "output_type": "stream",
     "text": [
      "Collecting tabula-py\n",
      "  Downloading tabula_py-2.2.0-py3-none-any.whl (11.7 MB)\n",
      "\u001b[K     |████████████████████████████████| 11.7 MB 5.6 MB/s eta 0:00:01\n",
      "\u001b[?25hRequirement already satisfied: numpy in /Users/caioamaral/opt/anaconda3/lib/python3.8/site-packages (from tabula-py) (1.18.5)\n",
      "Collecting distro\n",
      "  Downloading distro-1.5.0-py2.py3-none-any.whl (18 kB)\n",
      "Requirement already satisfied: pandas>=0.25.3 in /Users/caioamaral/opt/anaconda3/lib/python3.8/site-packages (from tabula-py) (1.0.5)\n",
      "Requirement already satisfied: pytz>=2017.2 in /Users/caioamaral/opt/anaconda3/lib/python3.8/site-packages (from pandas>=0.25.3->tabula-py) (2020.1)\n",
      "Requirement already satisfied: python-dateutil>=2.6.1 in /Users/caioamaral/opt/anaconda3/lib/python3.8/site-packages (from pandas>=0.25.3->tabula-py) (2.8.1)\n",
      "Requirement already satisfied: six>=1.5 in /Users/caioamaral/opt/anaconda3/lib/python3.8/site-packages (from python-dateutil>=2.6.1->pandas>=0.25.3->tabula-py) (1.15.0)\n",
      "Installing collected packages: distro, tabula-py\n",
      "Successfully installed distro-1.5.0 tabula-py-2.2.0\n",
      "Note: you may need to restart the kernel to use updated packages.\n"
     ]
    }
   ],
   "source": [
    "pip install tabula-py"
   ]
  },
  {
   "cell_type": "code",
   "execution_count": 48,
   "metadata": {},
   "outputs": [],
   "source": [
    "import PyPDF2\n",
    "import re\n",
    "import tabula\n",
    "import pandas\n"
   ]
  },
  {
   "cell_type": "code",
   "execution_count": 49,
   "metadata": {},
   "outputs": [],
   "source": [
    "file = open('./Input/Multi_Estrategia-GER-2020_06.pdf', 'rb')"
   ]
  },
  {
   "cell_type": "code",
   "execution_count": 50,
   "metadata": {},
   "outputs": [],
   "source": [
    "# creating a pdf reader object\n",
    "fileReader = PyPDF2.PdfFileReader(file)"
   ]
  },
  {
   "cell_type": "code",
   "execution_count": 51,
   "metadata": {},
   "outputs": [
    {
     "name": "stdout",
     "output_type": "stream",
     "text": [
      "1\n"
     ]
    }
   ],
   "source": [
    "# print the number of pages in pdf file\n",
    "print(fileReader.numPages)"
   ]
  },
  {
   "cell_type": "code",
   "execution_count": 52,
   "metadata": {},
   "outputs": [
    {
     "name": "stdout",
     "output_type": "stream",
     "text": [
      "Resumo GerencialCaracterísticasPerformanceData de inícioRetorno anualizadoAplicação mínimaDesvio padrão anualizado **Saldo mínimoÍndice de sharpe **Movimentação mínimaRentabilidade acumulada em 12 mesesCotaNúmero de meses positivos Cota de aplicaçãoNúmero de meses negativos Cota de resgateNúmero de meses acima do CDILiquidação de resgateNúmero de meses abaixo do CDICarência para resgateMaior rentabilidade mensal Tributação aplicávelMenor rentabilidade mensal Taxa de saída antecipadaPatrimônio líquido **R$Taxa de administração*Patrimônio líquido médio em 12 mesesR$Taxa de performanceAberto para novas aplicaçõesClassificação ANBIMA:Multimercados MacroAdmite Alavancagem:SimGestor:Verde Asset Management S.AAdministrador:Intrag Distribuidora De Títulos E Valores Mobiliários Ltda.Volatilidade anualizada (Desvio padrão - média 40 dias)* Calculado desde a constituição do fundo até 30/jun/2020-0,181,5313,935,97172,67154,3620193,550,080,080,971,301,620,630,750,011,02-0,18-2,29-0,091,67-0,711,461,370,860,900,251,7312,6714,00101,45105,1320171,031,871,2210,8320161,581,000,091,591,19-0,402,260,96VERDE AM MULTI ESTRATEGIA FIMCDIFundo9/jan/2007R$ 50.000,00R$ 50.000,0011,67%9,52%5,33%0,17%0,40-                    Fundomultimercado,quebuscarentabilidadeacimadoCertificadodeDepósito Interbancário - CDI.AdescriçãoacimanãopodeserconsideradacomoobjetivodoFundo.Todasasinformaçõesobrigatóriasestãodisponíveisnoformuláriodeinformaçõescomplementares,nalâminadeinformaçõesessenciais(sehouver)e/ounoregulamento,disponíveisemwww.intrag.com.brPúblico-alvoObjetivo3,49-1,188,19DezAcum. Ano30/jun/202011,78-0,340,352,01-0,171,821,01-0,0420150,841,021,041,781,941,49OFUNDOédestinadoexclusivamenteainvestidoresemgeral,admitindoinvestimentosespecificamentedeFIseFICsgeridospelaBRADESCOASSETMANAGEMENTS.A.DTVM,inscritanoCNPJsobonº62.375.134/0001-44.9,710,4043,4258,919,410,759,710,791,641,071,3446,4335,348,050,918,4110,66JanFevMarAbr2010Mai0,4832,73AgoAcum. CDI**OutNov22,430,930,560,001,3511,5921,0820110,290,67-0,121,780,220,350,04Não há0,84Acum. Fdo.Calculado desde 04/jan/2010 até 30/jun/202079,941,540,321,4912,2813,231,311,500,198,7510,8159,2478,80JunJulCDISetVERDE AM MULTI ESTRATEGIA FIM x CDI** Calculado desde 04/jan/2010 até 30/jun/2020792.631.752,861.195.076.907,80R$ 5.000,00D+17,31%109                    16                      68                      57                      5,42%-8,61%FechamentoNão háLongo Prazo4,62%D+30D+32-                    -                    1,21%*AtaxadeadministraçãomáximapagapeloFUNDO,englobandoataxadeadministraçãoacimaeastaxasdeadministraçãopagaspelo FUNDO nos fundos em que poderá eventualmente investir será de 2,50% a.a.20% que exceder a 100% do CDI140,0320181,82Rentabilidades (%)A rentabilidade do fundo VERDE AM MULTI ESTRATEGIA FIM está aqui apresentada a partir de 2010.Para informações acerca da rentabilidade em períodos anteriores a 2010, consulte o site da CVM - www.cvm.gov.br.125                    0                       9,411,330,400,620,860,91-0,370,751,650,400,560,970,430,830,790,22%1,50% a.a.recomendaçãoouanálisedeinvestimentoouativos.Rentabilidadeobtidanopassadonãorepresentagarantiaderesultadosfuturos.Arentabilidadedivulgadanãoélíquidadeimpostos.OinvestimentoemFundonãoégarantidopeloFundoGarantidordeCrédito.Leiaalâminadeinformaçõesessenciais,sehouver,eoregulamentoantesdeinvestir.AVerdenãoseresponsabilizaporerrosdeavaliaçãoouomissões.Osinvestidoresdevemtomarsuasprópriasdecisõesdeinvestimento.Oinvestimentoemfundospoderesultaremperdaspatrimoniaisparaseuscotistas,podendoinclusiveacarretarperdassuperioresaocapitalaplicadoeaconsequenteobrigaçãodocotistadeaportarrecursosadicionaisparacobriroprejuízodofundo.Paramaisinformaçõesacercadastaxasdeadministração,cotizaçãoepúblico-alvodecadaumdosfundos,consulteosdocumentosdofundodisponíveisnositeverdeasset.com.br.Estematerialnãopodesercopiado, reproduzido ou distribuído sem a prévia e expressa concordância da Verde. Supervisão e Fiscalização: Comissão de Valores Mobiliários - CVM. Serviço de Atendimento ao Cidadão: www.cvm.gov.br.Contato Institucional Verde AM: institucional@verdeasset.com.br / +55 11 4935-8500.9,95123,26125,550,51-0,620,802,611,020,980,100,110,74AVerdeAssetManagementS.A.nãocomercializaenemdistribuicotasdefundosouqualqueroutroativofinanceiro.EsterelatóriomensalretrataasopiniõesdaVerdeacercadaestratégiaegestãodofundoenãodeveserentendidocomooferta,0,424,050,950,447,206,42139,330,01201320140,951,6120120,580,601,140,770,720,94-0,460,701,080,450,820,960,601,171,551,76176,88158,8420200,60-1,13-8,615,423,322,560%1%2%3%4%5%6%7%8%9%10%abr-10out-10abr-11out-11abr-12out-12abr-13out-13abr-14out-14abr-15out-15abr-16out-16abr-17out-17abr-18out-18abr-19out-19abr-20VERDE AM MULTI ESTRATEGIA FIMCDI-10%0%10%20%30%40%50%60%70%80%90%100%110%120%130%140%150%160%170%180%jan-10jan-11jan-12jan-13jan-14jan-15jan-16jan-17jan-18jan-19jan-20VERDE AM MULTI ESTRATEGIA FIMCDI\n"
     ]
    }
   ],
   "source": [
    "#print(fileReader.getPage(0).extractText().encode('utf-8'))\n",
    "print(fileReader.getPage(0).extractText().replace('\\n',''))"
   ]
  },
  {
   "cell_type": "code",
   "execution_count": 53,
   "metadata": {},
   "outputs": [
    {
     "name": "stdout",
     "output_type": "stream",
     "text": [
      "['taxas', 'taxas']\n"
     ]
    }
   ],
   "source": [
    "text=fileReader.getPage(0).extractText()\n",
    "print(re.findall(r\"taxa.\", text))"
   ]
  },
  {
   "cell_type": "markdown",
   "metadata": {},
   "source": [
    "def match_verify(text,patern):\n",
    "   return bool(re.match(pattern, cpf))"
   ]
  },
  {
   "cell_type": "code",
   "execution_count": 58,
   "metadata": {},
   "outputs": [],
   "source": [
    "df = tabula.read_pdf('./Input/Multi_Estrategia-GER-2020_06.pdf', pages='all')"
   ]
  },
  {
   "cell_type": "code",
   "execution_count": 3,
   "metadata": {},
   "outputs": [
    {
     "ename": "NameError",
     "evalue": "name 'df' is not defined",
     "output_type": "error",
     "traceback": [
      "\u001b[0;31m---------------------------------------------------------------------------\u001b[0m",
      "\u001b[0;31mNameError\u001b[0m                                 Traceback (most recent call last)",
      "\u001b[0;32m<ipython-input-3-cafda3283a7e>\u001b[0m in \u001b[0;36m<module>\u001b[0;34m\u001b[0m\n\u001b[0;32m----> 1\u001b[0;31m \u001b[0mprint\u001b[0m\u001b[0;34m(\u001b[0m\u001b[0mlen\u001b[0m\u001b[0;34m(\u001b[0m\u001b[0mdf\u001b[0m\u001b[0;34m)\u001b[0m\u001b[0;34m)\u001b[0m\u001b[0;34m\u001b[0m\u001b[0;34m\u001b[0m\u001b[0m\n\u001b[0m\u001b[1;32m      2\u001b[0m \u001b[0mdf\u001b[0m\u001b[0;34m[\u001b[0m\u001b[0;36m0\u001b[0m\u001b[0;34m]\u001b[0m\u001b[0;34m\u001b[0m\u001b[0;34m\u001b[0m\u001b[0m\n",
      "\u001b[0;31mNameError\u001b[0m: name 'df' is not defined"
     ]
    }
   ],
   "source": [
    "print(len(df))\n",
    "df[0]"
   ]
  },
  {
   "cell_type": "code",
   "execution_count": null,
   "metadata": {},
   "outputs": [],
   "source": [
    "#so teste"
   ]
  }
 ],
 "metadata": {
  "kernelspec": {
   "display_name": "Python 3",
   "language": "python",
   "name": "python3"
  },
  "language_info": {
   "codemirror_mode": {
    "name": "ipython",
    "version": 3
   },
   "file_extension": ".py",
   "mimetype": "text/x-python",
   "name": "python",
   "nbconvert_exporter": "python",
   "pygments_lexer": "ipython3",
   "version": "3.8.3"
  }
 },
 "nbformat": 4,
 "nbformat_minor": 4
}
