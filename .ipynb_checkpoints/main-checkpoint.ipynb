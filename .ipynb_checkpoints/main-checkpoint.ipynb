{
 "cells": [
  {
   "cell_type": "code",
   "execution_count": null,
   "metadata": {},
   "outputs": [],
   "source": [
    "# pip install pypdf2\n",
    "# conda install -c conda-forge pypdf2"
   ]
  },
  {
   "cell_type": "code",
   "execution_count": null,
   "metadata": {},
   "outputs": [],
   "source": [
    "import os\n",
    "import re\n",
    "import pandas as pd\n",
    "import PyPDF2\n"
   ]
  },
  {
   "cell_type": "code",
   "execution_count": null,
   "metadata": {},
   "outputs": [],
   "source": [
    "INP_PATH = './input/'\n",
    "OUT_PATH = './output/'"
   ]
  },
  {
   "cell_type": "code",
   "execution_count": null,
   "metadata": {},
   "outputs": [],
   "source": [
    "def load_pdf_files(file_path:str):\n",
    "    '''\n",
    "    Loads pdf files and into PyPDF2.pdf.PdfFileReader object\n",
    "    and append thems into a dictionary.\n",
    "    \n",
    "    Parameters\n",
    "    ----------\n",
    "    file_path : str\n",
    "        Location of pdf files.\n",
    "        \n",
    "    Returns\n",
    "    ----------\n",
    "    inp_files : Dictionary\n",
    "        Example: {file_1.pdf: PyPDF2.PdfFileReader}\n",
    "    '''\n",
    "    inp_files = {}\n",
    "    \n",
    "    for file in os.listdir(file_path):\n",
    "        if file.endswith(\".pdf\"):\n",
    "#             print('Reading', os.path.join(file_path, file))\n",
    "            loaded_file = open(os.path.join(file_path, file), 'rb')\n",
    "            # Creating a pdf reader object\n",
    "            fileReader = PyPDF2.PdfFileReader(loaded_file)\n",
    "            inp_files[file] = fileReader\n",
    "    return inp_files\n",
    "        "
   ]
  },
  {
   "cell_type": "code",
   "execution_count": null,
   "metadata": {},
   "outputs": [],
   "source": [
    "main_dict = load_pdf_files(INP_PATH)"
   ]
  },
  {
   "cell_type": "markdown",
   "metadata": {},
   "source": [
    "# Define Rules"
   ]
  },
  {
   "cell_type": "code",
   "execution_count": null,
   "metadata": {},
   "outputs": [],
   "source": [
    "rules = {'simple_1' : {'type': 'simple', \n",
    "                     'contains': 'CNPJ', \n",
    "                     'case_sens': False, \n",
    "                     'n_char_before': 10, \n",
    "                     'n_char_after': 30,\n",
    "                     'matches': 'First'\n",
    "                    },\n",
    "          'simple_2' : {'type': 'simple',\n",
    "                      'contains': 'CPF', \n",
    "                      'case_sens': False, \n",
    "                      'n_char_before': 10, \n",
    "                      'n_char_after': 30,\n",
    "                      'matches': 'All'\n",
    "                         },\n",
    "         'regex' : {'type': 'regex',\n",
    "                      'pattern': 'taxa.{30}',\n",
    "                      'matches': 'All'\n",
    "                     },\n",
    "         \n",
    "         \n",
    "}"
   ]
  },
  {
   "cell_type": "markdown",
   "metadata": {},
   "source": [
    "# Function to Process rules"
   ]
  },
  {
   "cell_type": "code",
   "execution_count": null,
   "metadata": {},
   "outputs": [],
   "source": [
    "dfs = []\n",
    "for fn in main_dict:\n",
    "    df = pd.DataFrame([],columns=['File name', 'Rule', 'Page', 'text'])\n",
    "    fileReader = main_dict[fn]\n",
    "    pg_count = fileReader.numPages\n",
    "    doc = ''\n",
    "    # Applying rules for each page\n",
    "    for i in range(pg_count):\n",
    "        #Pdf reader\n",
    "        page = fileReader.getPage(i).extractText()\n",
    "        doc = page\n",
    "        doc = re.sub(r\"[\\n\\t\\r]*\", \"\", doc)\n",
    "        \n",
    "        #Applying rules\n",
    "        for rule in rules:\n",
    "            extract_texts = []\n",
    "            \n",
    "            ###Simple \n",
    "            if rules[rule]['type'] == 'simple':\n",
    "                word = rules[rule]['contains']\n",
    "                matches = [m.start() for m in re.finditer(word, doc, re.IGNORECASE)]\n",
    "\n",
    "                for m in matches:\n",
    "                    start = m - rules[rule]['n_char_before']\n",
    "                    end = m + rules[rule]['n_char_after'] + len(word)\n",
    "                    extract_texts.append(doc[start: end])\n",
    "                    \n",
    "            ###Regex\n",
    "            elif rules[rule]['type'] == 'regex':\n",
    "                pattern = rules[rule]['pattern']\n",
    "                matches = re.findall(r\"{}\".format(pattern), doc)\n",
    "                extract_texts.append(matches)\n",
    "                \n",
    "            \n",
    "            #Adding results to a temporary dataframe\n",
    "            df = pd.DataFrame({\"File name\":fn,\n",
    "                                \"Rule\":rule,\n",
    "                                \"Page\":i+1,\n",
    "                                \"text\":extract_texts\n",
    "                                })\n",
    " \n",
    "            #Adding results to the main dataframe\n",
    "            dfs.append(df)\n",
    "    \n",
    "df_final=pd.concat(dfs)"
   ]
  },
  {
   "cell_type": "code",
   "execution_count": null,
   "metadata": {},
   "outputs": [],
   "source": [
    "df_final=df_final.reset_index(drop=True)"
   ]
  },
  {
   "cell_type": "code",
   "execution_count": null,
   "metadata": {
    "scrolled": true
   },
   "outputs": [],
   "source": [
    "df_final.to_excel(OUT_PATH + 'results.xlsx', index=False)\n",
    "df_final"
   ]
  },
  {
   "cell_type": "code",
   "execution_count": null,
   "metadata": {},
   "outputs": [],
   "source": []
  }
 ],
 "metadata": {
  "kernelspec": {
   "display_name": "Python 3",
   "language": "python",
   "name": "python3"
  },
  "language_info": {
   "codemirror_mode": {
    "name": "ipython",
    "version": 3
   },
   "file_extension": ".py",
   "mimetype": "text/x-python",
   "name": "python",
   "nbconvert_exporter": "python",
   "pygments_lexer": "ipython3",
   "version": "3.8.3"
  }
 },
 "nbformat": 4,
 "nbformat_minor": 4
}
