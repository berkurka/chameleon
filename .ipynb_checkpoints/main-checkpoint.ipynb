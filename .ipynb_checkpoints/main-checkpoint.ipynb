{
 "cells": [
  {
   "cell_type": "code",
   "execution_count": 1,
   "metadata": {},
   "outputs": [],
   "source": [
    "# pip install pypdf2\n",
    "# conda install -c conda-forge pypdf2"
   ]
  },
  {
   "cell_type": "code",
   "execution_count": 57,
   "metadata": {},
   "outputs": [],
   "source": [
    "import PyPDF2\n",
    "import os\n",
    "import re"
   ]
  },
  {
   "cell_type": "code",
   "execution_count": 19,
   "metadata": {},
   "outputs": [],
   "source": [
    "INP_PATH = './input/'"
   ]
  },
  {
   "cell_type": "code",
   "execution_count": 38,
   "metadata": {},
   "outputs": [],
   "source": [
    "def load_pdf_files(file_path:str):\n",
    "    '''\n",
    "    Loads pdf files and into PyPDF2.pdf.PdfFileReader object\n",
    "    and append thems into a dictionary.\n",
    "    \n",
    "    Parameters\n",
    "    ----------\n",
    "    file_path : str\n",
    "        Location of pdf files.\n",
    "        \n",
    "    Returns\n",
    "    ----------\n",
    "    inp_files : Dictionary\n",
    "        Example: {file_1.pdf: PyPDF2.PdfFileReader}\n",
    "    '''\n",
    "    inp_files = {}\n",
    "    \n",
    "    for file in os.listdir(file_path):\n",
    "        if file.endswith(\".pdf\"):\n",
    "#             print('Reading', os.path.join(file_path, file))\n",
    "            loaded_file = open(os.path.join(file_path, file), 'rb')\n",
    "            # Creating a pdf reader object\n",
    "            fileReader = PyPDF2.PdfFileReader(loaded_file)\n",
    "            inp_files[file] = fileReader\n",
    "    return inp_files\n",
    "        "
   ]
  },
  {
   "cell_type": "code",
   "execution_count": 39,
   "metadata": {},
   "outputs": [
    {
     "name": "stdout",
     "output_type": "stream",
     "text": [
      "FILE_1.pdf FILE_1.pdf\n",
      "FILE_2.pdf FILE_2.pdf\n"
     ]
    }
   ],
   "source": [
    "main_dict = load_pdf_files(INP_PATH)"
   ]
  },
  {
   "cell_type": "markdown",
   "metadata": {},
   "source": [
    "# Put All text in one string"
   ]
  },
  {
   "cell_type": "code",
   "execution_count": null,
   "metadata": {},
   "outputs": [],
   "source": [
    "count = pdfReader.numPages\n",
    "output = []\n",
    "for i in range(count):\n",
    "    page = pdfReader.getPage(i)\n",
    "    output.append(page.extractText())\n",
    "print(output)"
   ]
  },
  {
   "cell_type": "markdown",
   "metadata": {},
   "source": [
    "# Define Rules"
   ]
  },
  {
   "cell_type": "code",
   "execution_count": 92,
   "metadata": {},
   "outputs": [],
   "source": [
    "rules = {'Rule_1' : {'type': 'simple', \n",
    "                     'contains': 'CNPJ', \n",
    "                     'case_sens': False, \n",
    "                     'n_char_before': 10, \n",
    "                     'n_char_after': 30,\n",
    "                     'all_matches': True\n",
    "                    }\n",
    "#          'Rule_2' : {'type': 'regex', }  \n",
    "}"
   ]
  },
  {
   "cell_type": "markdown",
   "metadata": {},
   "source": [
    "# Function to Process rules"
   ]
  },
  {
   "cell_type": "code",
   "execution_count": 95,
   "metadata": {},
   "outputs": [
    {
     "name": "stdout",
     "output_type": "stream",
     "text": [
      "EAPC, com CNPJ de n° 87.376.109/0001-06, ins\n",
      "completo, CNPJ ou CPF.  Art. 11. As questões\n",
      "minação e CNPJ; b) Identificação do plano: s\n",
      "minação e CNPJ do(s) FIE(s) vinculado(s) ao \n",
      "minação e CNPJ do(s) FIE(s) vinculado(s) ao \n",
      "minação e CNPJ do(s) respectivo(s) FIE(s); I\n",
      "minação e CNPJ do FIE no qual estarão aplica\n",
      "minação e CNPJ do respectivo FIE;  VI - Demo\n",
      "eração de CNPJ e, consequentemente, de denom\n",
      "eração de CNPJ e denominação, quando for pre\n",
      "strado no CNPJ sob n.º 37.253.900/0001-50 se\n",
      "nação e o CNPJ do novo FIE, no qual estarão \n"
     ]
    }
   ],
   "source": [
    "fileReader = main_dict['FILE_1.pdf']\n",
    "pg_count = fileReader.numPages\n",
    "doc = ''\n",
    "for i in range(pg_count):\n",
    "    page = fileReader.getPage(i).extractText()\n",
    "    doc += page\n",
    "doc = re.sub(r\"[\\n\\t\\r]*\", \"\", doc)\n",
    "rule = 'Rule_1'\n",
    "word = rules[rule]['contains']\n",
    "matches = [m.start() for m in re.finditer(word, doc, re.IGNORECASE)]\n",
    "\n",
    "for m in matches:\n",
    "    start = m - rules[rule]['n_char_before']\n",
    "    end = m + rules[rule]['n_char_after'] + len(word)\n",
    "    print(doc[start: end])"
   ]
  },
  {
   "cell_type": "code",
   "execution_count": null,
   "metadata": {},
   "outputs": [],
   "source": []
  }
 ],
 "metadata": {
  "kernelspec": {
   "display_name": "Python 3",
   "language": "python",
   "name": "python3"
  },
  "language_info": {
   "codemirror_mode": {
    "name": "ipython",
    "version": 3
   },
   "file_extension": ".py",
   "mimetype": "text/x-python",
   "name": "python",
   "nbconvert_exporter": "python",
   "pygments_lexer": "ipython3",
   "version": "3.7.1"
  }
 },
 "nbformat": 4,
 "nbformat_minor": 4
}
