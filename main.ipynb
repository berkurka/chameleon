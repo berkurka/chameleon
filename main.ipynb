{
 "cells": [
  {
   "cell_type": "code",
   "execution_count": 1,
   "metadata": {},
   "outputs": [],
   "source": [
    "# pip install pypdf2\n",
    "# conda install -c conda-forge pypdf2"
   ]
  },
  {
   "cell_type": "markdown",
   "metadata": {},
   "source": [
    "# Imports"
   ]
  },
  {
   "cell_type": "code",
   "execution_count": 2,
   "metadata": {},
   "outputs": [],
   "source": [
    "from extraction_functions import (\n",
    "    load_pdf_files,\n",
    "    extract_text\n",
    ")\n",
    "\n",
    "from matching_rules import rules\n",
    "\n",
    "%load_ext autoreload\n",
    "%autoreload 2\n",
    "%autoreload rules\n",
    "%autoreload extraction_functions\n"
   ]
  },
  {
   "cell_type": "markdown",
   "metadata": {},
   "source": [
    "# Globals"
   ]
  },
  {
   "cell_type": "code",
   "execution_count": 3,
   "metadata": {},
   "outputs": [],
   "source": [
    "INP_PATH = './input/'\n",
    "OUT_PATH = './output/'"
   ]
  },
  {
   "cell_type": "markdown",
   "metadata": {},
   "source": [
    "# Read Files"
   ]
  },
  {
   "cell_type": "code",
   "execution_count": 4,
   "metadata": {},
   "outputs": [
    {
     "name": "stdout",
     "output_type": "stream",
     "text": [
      "Reading ./input/FILE_2.pdf\n",
      "Reading ./input/Multi_Estrategia-GER-2020_09.pdf\n",
      "Reading ./input/FILE_1.pdf\n",
      "Reading ./input/Multi_Estrategia-GER-2020_08.pdf\n",
      "Reading ./input/Multi_Estrategia-GER-2020_10.pdf\n",
      "Reading ./input/Multi_Estrategia-GER-2020_06.pdf\n",
      "Reading ./input/Multi_Estrategia-GER-2020_07.pdf\n"
     ]
    }
   ],
   "source": [
    "raw_documents = load_pdf_files(INP_PATH)"
   ]
  },
  {
   "cell_type": "markdown",
   "metadata": {},
   "source": [
    "# Function to Process rules"
   ]
  },
  {
   "cell_type": "code",
   "execution_count": 5,
   "metadata": {},
   "outputs": [],
   "source": [
    "df_final = extract_text(raw_documents, rules)"
   ]
  },
  {
   "cell_type": "markdown",
   "metadata": {},
   "source": [
    "# Save Results"
   ]
  },
  {
   "cell_type": "code",
   "execution_count": 6,
   "metadata": {
    "scrolled": true
   },
   "outputs": [
    {
     "data": {
      "text/html": [
       "<div>\n",
       "<style scoped>\n",
       "    .dataframe tbody tr th:only-of-type {\n",
       "        vertical-align: middle;\n",
       "    }\n",
       "\n",
       "    .dataframe tbody tr th {\n",
       "        vertical-align: top;\n",
       "    }\n",
       "\n",
       "    .dataframe thead th {\n",
       "        text-align: right;\n",
       "    }\n",
       "</style>\n",
       "<table border=\"1\" class=\"dataframe\">\n",
       "  <thead>\n",
       "    <tr style=\"text-align: right;\">\n",
       "      <th></th>\n",
       "      <th>File name</th>\n",
       "      <th>Rule</th>\n",
       "      <th>Page</th>\n",
       "      <th>text</th>\n",
       "    </tr>\n",
       "  </thead>\n",
       "  <tbody>\n",
       "    <tr>\n",
       "      <th>0</th>\n",
       "      <td>FILE_2.pdf</td>\n",
       "      <td>regex</td>\n",
       "      <td>1</td>\n",
       "      <td>[]</td>\n",
       "    </tr>\n",
       "    <tr>\n",
       "      <th>1</th>\n",
       "      <td>FILE_2.pdf</td>\n",
       "      <td>simple_1</td>\n",
       "      <td>2</td>\n",
       "      <td>EAPC, com CNPJ de n° 42.283.770/0001-39, ins</td>\n",
       "    </tr>\n",
       "    <tr>\n",
       "      <th>2</th>\n",
       "      <td>FILE_2.pdf</td>\n",
       "      <td>regex</td>\n",
       "      <td>2</td>\n",
       "      <td>[taxa de juros efetiva anual e a tá, taxa de m...</td>\n",
       "    </tr>\n",
       "    <tr>\n",
       "      <th>3</th>\n",
       "      <td>FILE_2.pdf</td>\n",
       "      <td>simple_1</td>\n",
       "      <td>3</td>\n",
       "      <td>completo, CNPJ ou CPF.  Art. 11. As questões</td>\n",
       "    </tr>\n",
       "    <tr>\n",
       "      <th>4</th>\n",
       "      <td>FILE_2.pdf</td>\n",
       "      <td>simple_2</td>\n",
       "      <td>3</td>\n",
       "      <td>, CNPJ ou CPF.  Art. 11. As questões judici</td>\n",
       "    </tr>\n",
       "    <tr>\n",
       "      <th>...</th>\n",
       "      <td>...</td>\n",
       "      <td>...</td>\n",
       "      <td>...</td>\n",
       "      <td>...</td>\n",
       "    </tr>\n",
       "    <tr>\n",
       "      <th>86</th>\n",
       "      <td>Multi_Estrategia-GER-2020_10.pdf</td>\n",
       "      <td>regex</td>\n",
       "      <td>1</td>\n",
       "      <td>[taxasdeadministração,cotizaçãoepúb, taxadeadm...</td>\n",
       "    </tr>\n",
       "    <tr>\n",
       "      <th>87</th>\n",
       "      <td>Multi_Estrategia-GER-2020_06.pdf</td>\n",
       "      <td>simple_1</td>\n",
       "      <td>1</td>\n",
       "      <td>inscritanoCNPJsobonº62.375.134/0001-44.9,710</td>\n",
       "    </tr>\n",
       "    <tr>\n",
       "      <th>88</th>\n",
       "      <td>Multi_Estrategia-GER-2020_06.pdf</td>\n",
       "      <td>regex</td>\n",
       "      <td>1</td>\n",
       "      <td>[taxadeadministraçãomáximapagapeloF, taxadeadm...</td>\n",
       "    </tr>\n",
       "    <tr>\n",
       "      <th>89</th>\n",
       "      <td>Multi_Estrategia-GER-2020_07.pdf</td>\n",
       "      <td>simple_1</td>\n",
       "      <td>1</td>\n",
       "      <td>inscritanoCNPJsobonº62.375.134/0001-44.9,71V</td>\n",
       "    </tr>\n",
       "    <tr>\n",
       "      <th>90</th>\n",
       "      <td>Multi_Estrategia-GER-2020_07.pdf</td>\n",
       "      <td>regex</td>\n",
       "      <td>1</td>\n",
       "      <td>[taxasdeadministração,cotizaçãoepúb, taxadeadm...</td>\n",
       "    </tr>\n",
       "  </tbody>\n",
       "</table>\n",
       "<p>91 rows × 4 columns</p>\n",
       "</div>"
      ],
      "text/plain": [
       "                           File name      Rule  Page  \\\n",
       "0                         FILE_2.pdf     regex     1   \n",
       "1                         FILE_2.pdf  simple_1     2   \n",
       "2                         FILE_2.pdf     regex     2   \n",
       "3                         FILE_2.pdf  simple_1     3   \n",
       "4                         FILE_2.pdf  simple_2     3   \n",
       "..                               ...       ...   ...   \n",
       "86  Multi_Estrategia-GER-2020_10.pdf     regex     1   \n",
       "87  Multi_Estrategia-GER-2020_06.pdf  simple_1     1   \n",
       "88  Multi_Estrategia-GER-2020_06.pdf     regex     1   \n",
       "89  Multi_Estrategia-GER-2020_07.pdf  simple_1     1   \n",
       "90  Multi_Estrategia-GER-2020_07.pdf     regex     1   \n",
       "\n",
       "                                                 text  \n",
       "0                                                  []  \n",
       "1        EAPC, com CNPJ de n° 42.283.770/0001-39, ins  \n",
       "2   [taxa de juros efetiva anual e a tá, taxa de m...  \n",
       "3        completo, CNPJ ou CPF.  Art. 11. As questões  \n",
       "4         , CNPJ ou CPF.  Art. 11. As questões judici  \n",
       "..                                                ...  \n",
       "86  [taxasdeadministração,cotizaçãoepúb, taxadeadm...  \n",
       "87       inscritanoCNPJsobonº62.375.134/0001-44.9,710  \n",
       "88  [taxadeadministraçãomáximapagapeloF, taxadeadm...  \n",
       "89       inscritanoCNPJsobonº62.375.134/0001-44.9,71V  \n",
       "90  [taxasdeadministração,cotizaçãoepúb, taxadeadm...  \n",
       "\n",
       "[91 rows x 4 columns]"
      ]
     },
     "execution_count": 6,
     "metadata": {},
     "output_type": "execute_result"
    }
   ],
   "source": [
    "df_final.to_excel(OUT_PATH + 'results.xlsx', index=False)\n",
    "df_final"
   ]
  },
  {
   "cell_type": "code",
   "execution_count": null,
   "metadata": {},
   "outputs": [],
   "source": []
  }
 ],
 "metadata": {
  "kernelspec": {
   "display_name": "Python 3",
   "language": "python",
   "name": "python3"
  },
  "language_info": {
   "codemirror_mode": {
    "name": "ipython",
    "version": 3
   },
   "file_extension": ".py",
   "mimetype": "text/x-python",
   "name": "python",
   "nbconvert_exporter": "python",
   "pygments_lexer": "ipython3",
   "version": "3.8.3"
  }
 },
 "nbformat": 4,
 "nbformat_minor": 4
}
