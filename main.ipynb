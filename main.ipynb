{
 "cells": [
  {
   "cell_type": "code",
   "execution_count": 1,
   "metadata": {},
   "outputs": [],
   "source": [
    "# pip install pypdf2\n",
    "# conda install -c conda-forge pypdf2"
   ]
  },
  {
   "cell_type": "code",
   "execution_count": 2,
   "metadata": {},
   "outputs": [],
   "source": [
    "import os\n",
    "import re\n",
    "import pandas as pd\n",
    "import PyPDF2\n"
   ]
  },
  {
   "cell_type": "code",
   "execution_count": 10,
   "metadata": {},
   "outputs": [],
   "source": [
    "INP_PATH = './input/'\n",
    "OUT_PATH = './output/'"
   ]
  },
  {
   "cell_type": "code",
   "execution_count": 4,
   "metadata": {},
   "outputs": [],
   "source": [
    "def load_pdf_files(file_path:str):\n",
    "    '''\n",
    "    Loads pdf files and into PyPDF2.pdf.PdfFileReader object\n",
    "    and append thems into a dictionary.\n",
    "    \n",
    "    Parameters\n",
    "    ----------\n",
    "    file_path : str\n",
    "        Location of pdf files.\n",
    "        \n",
    "    Returns\n",
    "    ----------\n",
    "    inp_files : Dictionary\n",
    "        Example: {file_1.pdf: PyPDF2.PdfFileReader}\n",
    "    '''\n",
    "    inp_files = {}\n",
    "    \n",
    "    for file in os.listdir(file_path):\n",
    "        if file.endswith(\".pdf\"):\n",
    "#             print('Reading', os.path.join(file_path, file))\n",
    "            loaded_file = open(os.path.join(file_path, file), 'rb')\n",
    "            # Creating a pdf reader object\n",
    "            fileReader = PyPDF2.PdfFileReader(loaded_file)\n",
    "            inp_files[file] = fileReader\n",
    "    return inp_files\n",
    "        "
   ]
  },
  {
   "cell_type": "code",
   "execution_count": 5,
   "metadata": {},
   "outputs": [],
   "source": [
    "main_dict = load_pdf_files(INP_PATH)"
   ]
  },
  {
   "cell_type": "markdown",
   "metadata": {},
   "source": [
    "# Define Rules"
   ]
  },
  {
   "cell_type": "code",
   "execution_count": 12,
   "metadata": {},
   "outputs": [],
   "source": [
    "rules = {'Rule_1' : {'type': 'simple', \n",
    "                     'contains': 'CNPJ', \n",
    "                     'case_sens': False, \n",
    "                     'n_char_before': 10, \n",
    "                     'n_char_after': 30,\n",
    "                     'all_matches': True\n",
    "                    }\n",
    "#          'Rule_2' : {'type': 'regex', }  \n",
    "}"
   ]
  },
  {
   "cell_type": "markdown",
   "metadata": {},
   "source": [
    "# Function to Process rules"
   ]
  },
  {
   "cell_type": "code",
   "execution_count": 9,
   "metadata": {},
   "outputs": [
    {
     "data": {
      "text/html": [
       "<div>\n",
       "<style scoped>\n",
       "    .dataframe tbody tr th:only-of-type {\n",
       "        vertical-align: middle;\n",
       "    }\n",
       "\n",
       "    .dataframe tbody tr th {\n",
       "        vertical-align: top;\n",
       "    }\n",
       "\n",
       "    .dataframe thead th {\n",
       "        text-align: right;\n",
       "    }\n",
       "</style>\n",
       "<table border=\"1\" class=\"dataframe\">\n",
       "  <thead>\n",
       "    <tr style=\"text-align: right;\">\n",
       "      <th></th>\n",
       "      <th>File name</th>\n",
       "      <th>Rule</th>\n",
       "      <th>Page</th>\n",
       "      <th>text</th>\n",
       "    </tr>\n",
       "  </thead>\n",
       "  <tbody>\n",
       "  </tbody>\n",
       "</table>\n",
       "</div>"
      ],
      "text/plain": [
       "Empty DataFrame\n",
       "Columns: [File name, Rule, Page, text]\n",
       "Index: []"
      ]
     },
     "execution_count": 9,
     "metadata": {},
     "output_type": "execute_result"
    }
   ],
   "source": [
    "df"
   ]
  },
  {
   "cell_type": "code",
   "execution_count": 18,
   "metadata": {},
   "outputs": [
    {
     "name": "stdout",
     "output_type": "stream",
     "text": [
      "EAPC, com CNPJ de n° 87.376.109/0001-06, ins\n",
      "completo, CNPJ ou CPF.  Art. 11. As questões\n",
      "minação e CNPJ; b) Identificação do plano: s\n",
      "minação e CNPJ do(s) FIE(s) vinculado(s) ao \n",
      "minação e CNPJ do(s) FIE(s) vinculado(s) ao \n",
      "minação e CNPJ do(s) respectivo(s) FIE(s); I\n",
      "minação e CNPJ do FIE no qual estarão aplica\n",
      "minação e CNPJ do respectivo FIE;  VI - Demo\n",
      "eração de CNPJ e, consequentemente, de denom\n",
      "eração de CNPJ e denominação, quando for pre\n",
      "strado no CNPJ sob n.º 37.253.900/0001-50 se\n",
      "nação e o CNPJ do novo FIE, no qual estarão \n"
     ]
    }
   ],
   "source": [
    "fn = 'FILE_1.pdf'\n",
    "fileReader = main_dict[fn]\n",
    "df = pd.DataFrame([], columns=['File name', 'Rule', 'Page', 'text'])\n",
    "pg_count = fileReader.numPages\n",
    "doc = ''\n",
    "# Put all pages in single string\n",
    "for i in range(pg_count):\n",
    "    page = fileReader.getPage(i).extractText()\n",
    "    doc += page\n",
    "doc = re.sub(r\"[\\n\\t\\r]*\", \"\", doc)\n",
    "rule = 'Rule_1'\n",
    "extract_texts = []\n",
    "word = rules[rule]['contains']\n",
    "matches = [m.start() for m in re.finditer(word, doc, re.IGNORECASE)]\n",
    "\n",
    "for m in matches:\n",
    "    start = m - rules[rule]['n_char_before']\n",
    "    end = m + rules[rule]['n_char_after'] + len(word)\n",
    "    print(doc[start: end])\n",
    "    extract_texts.append(doc[start: end])    "
   ]
  },
  {
   "cell_type": "code",
   "execution_count": 22,
   "metadata": {
    "scrolled": true
   },
   "outputs": [
    {
     "data": {
      "text/html": [
       "<div>\n",
       "<style scoped>\n",
       "    .dataframe tbody tr th:only-of-type {\n",
       "        vertical-align: middle;\n",
       "    }\n",
       "\n",
       "    .dataframe tbody tr th {\n",
       "        vertical-align: top;\n",
       "    }\n",
       "\n",
       "    .dataframe thead th {\n",
       "        text-align: right;\n",
       "    }\n",
       "</style>\n",
       "<table border=\"1\" class=\"dataframe\">\n",
       "  <thead>\n",
       "    <tr style=\"text-align: right;\">\n",
       "      <th></th>\n",
       "      <th>File name</th>\n",
       "      <th>Rule</th>\n",
       "      <th>Page</th>\n",
       "      <th>text</th>\n",
       "    </tr>\n",
       "  </thead>\n",
       "  <tbody>\n",
       "    <tr>\n",
       "      <th>0</th>\n",
       "      <td>FILE_1.pdf</td>\n",
       "      <td>Rule_1</td>\n",
       "      <td>NaN</td>\n",
       "      <td>EAPC, com CNPJ de n° 87.376.109/0001-06, ins</td>\n",
       "    </tr>\n",
       "    <tr>\n",
       "      <th>1</th>\n",
       "      <td>FILE_1.pdf</td>\n",
       "      <td>Rule_1</td>\n",
       "      <td>NaN</td>\n",
       "      <td>completo, CNPJ ou CPF.  Art. 11. As questões</td>\n",
       "    </tr>\n",
       "    <tr>\n",
       "      <th>2</th>\n",
       "      <td>FILE_1.pdf</td>\n",
       "      <td>Rule_1</td>\n",
       "      <td>NaN</td>\n",
       "      <td>minação e CNPJ; b) Identificação do plano: s</td>\n",
       "    </tr>\n",
       "    <tr>\n",
       "      <th>3</th>\n",
       "      <td>FILE_1.pdf</td>\n",
       "      <td>Rule_1</td>\n",
       "      <td>NaN</td>\n",
       "      <td>minação e CNPJ do(s) FIE(s) vinculado(s) ao</td>\n",
       "    </tr>\n",
       "    <tr>\n",
       "      <th>4</th>\n",
       "      <td>FILE_1.pdf</td>\n",
       "      <td>Rule_1</td>\n",
       "      <td>NaN</td>\n",
       "      <td>minação e CNPJ do(s) FIE(s) vinculado(s) ao</td>\n",
       "    </tr>\n",
       "    <tr>\n",
       "      <th>5</th>\n",
       "      <td>FILE_1.pdf</td>\n",
       "      <td>Rule_1</td>\n",
       "      <td>NaN</td>\n",
       "      <td>minação e CNPJ do(s) respectivo(s) FIE(s); I</td>\n",
       "    </tr>\n",
       "    <tr>\n",
       "      <th>6</th>\n",
       "      <td>FILE_1.pdf</td>\n",
       "      <td>Rule_1</td>\n",
       "      <td>NaN</td>\n",
       "      <td>minação e CNPJ do FIE no qual estarão aplica</td>\n",
       "    </tr>\n",
       "    <tr>\n",
       "      <th>7</th>\n",
       "      <td>FILE_1.pdf</td>\n",
       "      <td>Rule_1</td>\n",
       "      <td>NaN</td>\n",
       "      <td>minação e CNPJ do respectivo FIE;  VI - Demo</td>\n",
       "    </tr>\n",
       "    <tr>\n",
       "      <th>8</th>\n",
       "      <td>FILE_1.pdf</td>\n",
       "      <td>Rule_1</td>\n",
       "      <td>NaN</td>\n",
       "      <td>eração de CNPJ e, consequentemente, de denom</td>\n",
       "    </tr>\n",
       "    <tr>\n",
       "      <th>9</th>\n",
       "      <td>FILE_1.pdf</td>\n",
       "      <td>Rule_1</td>\n",
       "      <td>NaN</td>\n",
       "      <td>eração de CNPJ e denominação, quando for pre</td>\n",
       "    </tr>\n",
       "    <tr>\n",
       "      <th>10</th>\n",
       "      <td>FILE_1.pdf</td>\n",
       "      <td>Rule_1</td>\n",
       "      <td>NaN</td>\n",
       "      <td>strado no CNPJ sob n.º 37.253.900/0001-50 se</td>\n",
       "    </tr>\n",
       "    <tr>\n",
       "      <th>11</th>\n",
       "      <td>FILE_1.pdf</td>\n",
       "      <td>Rule_1</td>\n",
       "      <td>NaN</td>\n",
       "      <td>nação e o CNPJ do novo FIE, no qual estarão</td>\n",
       "    </tr>\n",
       "  </tbody>\n",
       "</table>\n",
       "</div>"
      ],
      "text/plain": [
       "     File name    Rule Page                                          text\n",
       "0   FILE_1.pdf  Rule_1  NaN  EAPC, com CNPJ de n° 87.376.109/0001-06, ins\n",
       "1   FILE_1.pdf  Rule_1  NaN  completo, CNPJ ou CPF.  Art. 11. As questões\n",
       "2   FILE_1.pdf  Rule_1  NaN  minação e CNPJ; b) Identificação do plano: s\n",
       "3   FILE_1.pdf  Rule_1  NaN  minação e CNPJ do(s) FIE(s) vinculado(s) ao \n",
       "4   FILE_1.pdf  Rule_1  NaN  minação e CNPJ do(s) FIE(s) vinculado(s) ao \n",
       "5   FILE_1.pdf  Rule_1  NaN  minação e CNPJ do(s) respectivo(s) FIE(s); I\n",
       "6   FILE_1.pdf  Rule_1  NaN  minação e CNPJ do FIE no qual estarão aplica\n",
       "7   FILE_1.pdf  Rule_1  NaN  minação e CNPJ do respectivo FIE;  VI - Demo\n",
       "8   FILE_1.pdf  Rule_1  NaN  eração de CNPJ e, consequentemente, de denom\n",
       "9   FILE_1.pdf  Rule_1  NaN  eração de CNPJ e denominação, quando for pre\n",
       "10  FILE_1.pdf  Rule_1  NaN  strado no CNPJ sob n.º 37.253.900/0001-50 se\n",
       "11  FILE_1.pdf  Rule_1  NaN  nação e o CNPJ do novo FIE, no qual estarão "
      ]
     },
     "execution_count": 22,
     "metadata": {},
     "output_type": "execute_result"
    }
   ],
   "source": [
    "df['text'] = pd.Series(extract_texts)    \n",
    "df['File name'] = fn\n",
    "df['Rule'] = rule\n",
    "df.to_excel(OUT_PATH + 'results.xlsx', index=False)\n",
    "df"
   ]
  },
  {
   "cell_type": "code",
   "execution_count": null,
   "metadata": {},
   "outputs": [],
   "source": []
  }
 ],
 "metadata": {
  "kernelspec": {
   "display_name": "Python 3",
   "language": "python",
   "name": "python3"
  },
  "language_info": {
   "codemirror_mode": {
    "name": "ipython",
    "version": 3
   },
   "file_extension": ".py",
   "mimetype": "text/x-python",
   "name": "python",
   "nbconvert_exporter": "python",
   "pygments_lexer": "ipython3",
   "version": "3.7.1"
  }
 },
 "nbformat": 4,
 "nbformat_minor": 4
}
